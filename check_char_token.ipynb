{
 "cells": [
  {
   "cell_type": "code",
   "execution_count": 1,
   "id": "8173c95a",
   "metadata": {},
   "outputs": [
    {
     "name": "stdout",
     "output_type": "stream",
     "text": [
      "Total characters: 10263\n"
     ]
    }
   ],
   "source": [
    "file_path = \"app.py\"\n",
    "with open(file_path, \"r\", encoding=\"utf-8\") as f:\n",
    "    text = f.read()\n",
    "\n",
    "print(\"Total characters:\", len(text))"
   ]
  },
  {
   "cell_type": "code",
   "execution_count": 2,
   "id": "3b686e6d",
   "metadata": {},
   "outputs": [
    {
     "name": "stdout",
     "output_type": "stream",
     "text": [
      "Total characters: 10763\n"
     ]
    }
   ],
   "source": [
    "file_path = \"document_generator_functions.py\"\n",
    "with open(file_path, \"r\", encoding=\"utf-8\") as f:\n",
    "    text = f.read()\n",
    "\n",
    "print(\"Total characters:\", len(text))"
   ]
  },
  {
   "cell_type": "code",
   "execution_count": 3,
   "id": "a3cebe7c",
   "metadata": {},
   "outputs": [
    {
     "name": "stdout",
     "output_type": "stream",
     "text": [
      "Total characters: 16380\n"
     ]
    }
   ],
   "source": [
    "file_path = \"github_analyzer_functions.py\"\n",
    "with open(file_path, \"r\", encoding=\"utf-8\") as f:\n",
    "    text = f.read()\n",
    "\n",
    "print(\"Total characters:\", len(text))"
   ]
  },
  {
   "cell_type": "code",
   "execution_count": 5,
   "id": "18694369",
   "metadata": {},
   "outputs": [
    {
     "name": "stdout",
     "output_type": "stream",
     "text": [
      "Token count: 1886\n"
     ]
    }
   ],
   "source": [
    "import tiktoken\n",
    "\n",
    "def count_tokens_in_file(file_path, model=\"gpt-4o-mini\"):\n",
    "    # Load tokenizer for given model\n",
    "    enc = tiktoken.encoding_for_model(model)\n",
    "    \n",
    "    # Read file\n",
    "    with open(file_path, \"r\", encoding=\"utf-8\") as f:\n",
    "        text = f.read()\n",
    "    \n",
    "    # Encode and count tokens\n",
    "    tokens = enc.encode(text)\n",
    "    return len(tokens)\n",
    "\n",
    "# Example usage:\n",
    "file_name = \"app.py\"\n",
    "print(\"Token count:\", count_tokens_in_file(file_name))\n"
   ]
  },
  {
   "cell_type": "code",
   "execution_count": null,
   "id": "f2816d88",
   "metadata": {},
   "outputs": [],
   "source": [
    "import tiktoken\n",
    "\n",
    "def count_tokens_in_file(file_path, model=\"gpt-4o-mini\"):\n",
    "    # Load tokenizer for given model\n",
    "    enc = tiktoken.encoding_for_model(model)\n",
    "    \n",
    "    # Read file\n",
    "    with open(file_path, \"r\", encoding=\"utf-8\") as f:\n",
    "        text = f.read()\n",
    "    \n",
    "    # Encode and count tokens\n",
    "    tokens = enc.encode(text)\n",
    "    return len(tokens)\n",
    "\n",
    "# Example usage:\n",
    "file_name = \"example.py\"\n",
    "print(\"Token count:\", count_tokens_in_file(file_name))\n"
   ]
  }
 ],
 "metadata": {
  "kernelspec": {
   "display_name": "myenv",
   "language": "python",
   "name": "python3"
  },
  "language_info": {
   "codemirror_mode": {
    "name": "ipython",
    "version": 3
   },
   "file_extension": ".py",
   "mimetype": "text/x-python",
   "name": "python",
   "nbconvert_exporter": "python",
   "pygments_lexer": "ipython3",
   "version": "3.11.13"
  }
 },
 "nbformat": 4,
 "nbformat_minor": 5
}
